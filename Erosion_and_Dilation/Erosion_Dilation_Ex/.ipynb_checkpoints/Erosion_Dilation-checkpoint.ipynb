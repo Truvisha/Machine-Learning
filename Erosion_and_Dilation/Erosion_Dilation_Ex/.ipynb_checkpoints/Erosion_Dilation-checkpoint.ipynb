{
 "cells": [
  {
   "cell_type": "code",
   "execution_count": null,
   "id": "e80629df-4906-47ec-900a-f2f75fe67a51",
   "metadata": {},
   "outputs": [],
   "source": [
    "#Erosion and Dilation\n",
    "import cv2\n",
    "import numpy as np\n",
    "import matplotlib.pyplot as plt\n",
    "\n",
    "#Load image\n",
    "img=cv2.imread('i.png')\n",
    "\n",
    "k1=np.ones((3,3),np.uint8)\n",
    "\n",
    "#Erosion\n",
    "erosion=cv2.erode(img,k1,iterations=1)\n",
    "#Dilation\n",
    "dilation=cv2.dilate(img,k1,iterations=1)\n",
    "\n",
    "\n",
    "plt.subplot(1,3,1),plt.imshow(img,cmap='gray'),plt.title('Source'),plt.axis('off')\n",
    "plt.subplot(1,3,2),plt.imshow(erosion,cmap='gray'),plt.title('Erosion'),plt.axis('off')\n",
    "plt.subplot(1,3,3),plt.imshow(dilation,cmap='gray'),plt.title('Dilation'),plt.axis('off')\n",
    "\n",
    "# cv2.imshow('Source',img)\n",
    "# cv2.imshow('Erosion',erosion)\n",
    "# cv2.imshow('Dilation',dilation)\n",
    "# cv2.waitKey(0)\n",
    "# cv2.destroyAllWindows()\n"
   ]
  }
 ],
 "metadata": {
  "kernelspec": {
   "display_name": "Python 3 (ipykernel)",
   "language": "python",
   "name": "python3"
  },
  "language_info": {
   "codemirror_mode": {
    "name": "ipython",
    "version": 3
   },
   "file_extension": ".py",
   "mimetype": "text/x-python",
   "name": "python",
   "nbconvert_exporter": "python",
   "pygments_lexer": "ipython3",
   "version": "3.10.2"
  }
 },
 "nbformat": 4,
 "nbformat_minor": 5
}
